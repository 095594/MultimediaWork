{
 "cells": [
  {
   "cell_type": "code",
   "execution_count": 1,
   "id": "a2e58cd7-7d36-43da-a0ab-6988d479fc75",
   "metadata": {},
   "outputs": [],
   "source": [
    "import tensorflow as tf\n",
    "import pandas as pd\n",
    "import numpy as np\n",
    "import random\n",
    "import matplotlib.pyplot as plt\n",
    "from tensorflow.keras.datasets import fashion_mnist\n",
    "from tensorflow.keras.preprocessing.image import ImageDataGenerator\n",
    "from tensorflow.keras.utils import to_categorical\n",
    "from tensorflow.keras.models import Sequential\n",
    "from tensorflow.keras.layers import Conv2D, MaxPooling2D, Flatten, Dense, Dropout, BatchNormalization\n",
    "from tensorflow.keras.callbacks import EarlyStopping\n",
    "from matplotlib.colors import Normalize"
   ]
  },
  {
   "cell_type": "code",
   "execution_count": 2,
   "id": "5b8f5e44-df2a-4a72-a94e-5837b70973cf",
   "metadata": {},
   "outputs": [
    {
     "data": {
      "text/plain": [
       "module"
      ]
     },
     "execution_count": 2,
     "metadata": {},
     "output_type": "execute_result"
    }
   ],
   "source": [
    "type(fashion_mnist) # fashion_mnist is a module inside tensorflow.keras.datasets"
   ]
  },
  {
   "cell_type": "code",
   "execution_count": 3,
   "id": "fb221488-6144-4ef9-a299-bd40b1c7347a",
   "metadata": {},
   "outputs": [
    {
     "name": "stdout",
     "output_type": "stream",
     "text": [
      "Training data shape: (60000, 28, 28)\n",
      "Test data shape: (10000, 28, 28)\n"
     ]
    }
   ],
   "source": [
    "(X_train, y_train), (X_test, y_test) = fashion_mnist.load_data()\n",
    "#The function load_data() returns a tuple containing training and testing data\n",
    "\n",
    "# Print the shape of data\n",
    "print(\"Training data shape:\", X_train.shape)\n",
    "print(\"Test data shape:\", X_test.shape)"
   ]
  },
  {
   "cell_type": "code",
   "execution_count": 4,
   "id": "d5207b0d-7dcf-4dd5-b9ee-cccf8e5d88b1",
   "metadata": {},
   "outputs": [
    {
     "data": {
      "text/plain": [
       "255"
      ]
     },
     "execution_count": 4,
     "metadata": {},
     "output_type": "execute_result"
    }
   ],
   "source": [
    "np.max(X_train)"
   ]
  },
  {
   "cell_type": "code",
   "execution_count": 5,
   "id": "c33b05c7-843e-42ae-b2a6-46ccf18a429e",
   "metadata": {},
   "outputs": [
    {
     "data": {
      "text/plain": [
       "array([9, 0, 0, ..., 3, 0, 5], dtype=uint8)"
      ]
     },
     "execution_count": 5,
     "metadata": {},
     "output_type": "execute_result"
    }
   ],
   "source": [
    "y_train # contains numbers (0–9), each representing a clothing category."
   ]
  },
  {
   "cell_type": "code",
   "execution_count": 6,
   "id": "8af868f3-61cb-4170-8f8d-d10c7472ece4",
   "metadata": {},
   "outputs": [
    {
     "data": {
      "text/plain": [
       "array([0, 1, 2, 3, 4, 5, 6, 7, 8, 9], dtype=uint8)"
      ]
     },
     "execution_count": 6,
     "metadata": {},
     "output_type": "execute_result"
    }
   ],
   "source": [
    "np.unique(y_train) # returns the sorted unique class labels present in y_train"
   ]
  },
  {
   "cell_type": "code",
   "execution_count": 7,
   "id": "7f12ec6e-8ba3-437d-a604-14504d4907f7",
   "metadata": {},
   "outputs": [
    {
     "name": "stdout",
     "output_type": "stream",
     "text": [
      "['t-shirt/top', 'trouser', 'pullover', 'dress', 'coat', 'sandal', 'shirt', 'sneaker', 'bag', 'ankle boot']\n"
     ]
    }
   ],
   "source": [
    "class_names = [\n",
    "    \"t-shirt/top\", \"trouser\", \"pullover\", \"dress\", \"coat\",\n",
    "    \"sandal\", \"shirt\", \"sneaker\", \"bag\", \"ankle boot\"\n",
    "]\n",
    "print(class_names) \n",
    "\n",
    "# 0 → t-shirt/top  \n",
    "# 1 → trouser  \n",
    "# 2 → pullover  \n",
    "# 3 → dress  \n",
    "# 4 → coat  \n",
    "# 5 → sandal  \n",
    "# 6 → shirt  \n",
    "# 7 → sneaker  \n",
    "# 8 → bag  \n",
    "# 9 → ankle boot  \n"
   ]
  },
  {
   "cell_type": "code",
   "execution_count": null,
   "id": "04f32833-ba48-43c8-805d-e1d4edfca517",
   "metadata": {},
   "outputs": [],
   "source": []
  }
 ],
 "metadata": {
  "kernelspec": {
   "display_name": "Python 3 (ipykernel)",
   "language": "python",
   "name": "python3"
  },
  "language_info": {
   "codemirror_mode": {
    "name": "ipython",
    "version": 3
   },
   "file_extension": ".py",
   "mimetype": "text/x-python",
   "name": "python",
   "nbconvert_exporter": "python",
   "pygments_lexer": "ipython3",
   "version": "3.12.7"
  }
 },
 "nbformat": 4,
 "nbformat_minor": 5
}
